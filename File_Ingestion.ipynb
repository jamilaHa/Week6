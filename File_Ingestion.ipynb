{
  "nbformat": 4,
  "nbformat_minor": 0,
  "metadata": {
    "colab": {
      "name": "File Ingestion.ipynb",
      "provenance": [],
      "collapsed_sections": []
    },
    "kernelspec": {
      "display_name": "Python 3",
      "name": "python3"
    },
    "language_info": {
      "name": "python"
    }
  },
  "cells": [
    {
      "cell_type": "code",
      "metadata": {
        "id": "JY8Zq5htia2f"
      },
      "source": [
        "import pandas as pd\n",
        "import numpy as np\n",
        "import matplotlib.pyplot as plt\n",
        "from os.path import join\n",
        "import seaborn as sns\n",
        "import time "
      ],
      "execution_count": 9,
      "outputs": []
    },
    {
      "cell_type": "markdown",
      "metadata": {
        "id": "HpFOg_uggOMy"
      },
      "source": [
        "**Read the file with PANDAS**"
      ]
    },
    {
      "cell_type": "code",
      "metadata": {
        "id": "VB3WgK1eiJEC",
        "colab": {
          "base_uri": "https://localhost:8080/"
        },
        "outputId": "682b52a3-ecc5-46cc-d5b5-0bf808b48744"
      },
      "source": [
        "start_time = time.process_time()\n",
        "pd_data = pd.read_csv('yelp_academic_dataset_review.csv')\n",
        "print(time.process_time() - start_time, \"seconds\")"
      ],
      "execution_count": 10,
      "outputs": [
        {
          "output_type": "stream",
          "text": [
            "77.49564344400001 seconds\n"
          ],
          "name": "stdout"
        }
      ]
    },
    {
      "cell_type": "code",
      "metadata": {
        "id": "7_drarMTzA9W",
        "colab": {
          "base_uri": "https://localhost:8080/",
          "height": 352
        },
        "outputId": "8f42c9fb-edff-4b62-bda6-9b25aad9cedf"
      },
      "source": [
        "pd_data.head(2)"
      ],
      "execution_count": 11,
      "outputs": [
        {
          "output_type": "execute_result",
          "data": {
            "text/html": [
              "<div>\n",
              "<style scoped>\n",
              "    .dataframe tbody tr th:only-of-type {\n",
              "        vertical-align: middle;\n",
              "    }\n",
              "\n",
              "    .dataframe tbody tr th {\n",
              "        vertical-align: top;\n",
              "    }\n",
              "\n",
              "    .dataframe thead th {\n",
              "        text-align: right;\n",
              "    }\n",
              "</style>\n",
              "<table border=\"1\" class=\"dataframe\">\n",
              "  <thead>\n",
              "    <tr style=\"text-align: right;\">\n",
              "      <th></th>\n",
              "      <th>user_id</th>\n",
              "      <th>text</th>\n",
              "      <th>date</th>\n",
              "      <th>review_id</th>\n",
              "      <th>business_id</th>\n",
              "      <th>funny</th>\n",
              "      <th>cool</th>\n",
              "      <th>useful</th>\n",
              "      <th>stars</th>\n",
              "    </tr>\n",
              "  </thead>\n",
              "  <tbody>\n",
              "    <tr>\n",
              "      <th>0</th>\n",
              "      <td>b'hG7b0MtEbXx5QzbzE6C_VA'</td>\n",
              "      <td>b'Total bill for this horrible service? Over $...</td>\n",
              "      <td>b'2013-05-07 04:34:36'</td>\n",
              "      <td>b'Q1sbwvVQXV2734tPgoKj4Q'</td>\n",
              "      <td>b'ujmEBvifdJM6h6RLv4wQIg'</td>\n",
              "      <td>1</td>\n",
              "      <td>0</td>\n",
              "      <td>6</td>\n",
              "      <td>1.0</td>\n",
              "    </tr>\n",
              "    <tr>\n",
              "      <th>1</th>\n",
              "      <td>b'yXQM5uF2jS6es16SJzNHfg'</td>\n",
              "      <td>b\"I *adore* Travis at the Hard Rock's new Kell...</td>\n",
              "      <td>b'2017-01-14 21:30:33'</td>\n",
              "      <td>b'GJXCdrto3ASJOqKeVWPi6Q'</td>\n",
              "      <td>b'NZnhc2sEQy3RmzKTZnqtwQ'</td>\n",
              "      <td>0</td>\n",
              "      <td>0</td>\n",
              "      <td>0</td>\n",
              "      <td>5.0</td>\n",
              "    </tr>\n",
              "  </tbody>\n",
              "</table>\n",
              "</div>"
            ],
            "text/plain": [
              "                     user_id  ... stars\n",
              "0  b'hG7b0MtEbXx5QzbzE6C_VA'  ...   1.0\n",
              "1  b'yXQM5uF2jS6es16SJzNHfg'  ...   5.0\n",
              "\n",
              "[2 rows x 9 columns]"
            ]
          },
          "metadata": {
            "tags": []
          },
          "execution_count": 11
        }
      ]
    },
    {
      "cell_type": "code",
      "metadata": {
        "id": "-jxdqB_WcshW",
        "colab": {
          "base_uri": "https://localhost:8080/"
        },
        "outputId": "fe30d177-f18d-4782-f85c-359d288448de"
      },
      "source": [
        "pd_data.shape\n"
      ],
      "execution_count": 12,
      "outputs": [
        {
          "output_type": "execute_result",
          "data": {
            "text/plain": [
              "(6685900, 9)"
            ]
          },
          "metadata": {
            "tags": []
          },
          "execution_count": 12
        }
      ]
    },
    {
      "cell_type": "code",
      "metadata": {
        "id": "xiwvf869zsKT",
        "colab": {
          "base_uri": "https://localhost:8080/"
        },
        "outputId": "97346bdc-b5aa-4ee0-a1b3-06ff529136f3"
      },
      "source": [
        "%pip install \"dask[complete]\""
      ],
      "execution_count": 13,
      "outputs": [
        {
          "output_type": "stream",
          "text": [
            "Requirement already satisfied: dask[complete] in /usr/local/lib/python3.7/dist-packages (2021.8.0)\n",
            "Requirement already satisfied: toolz>=0.8.2 in /usr/local/lib/python3.7/dist-packages (from dask[complete]) (0.11.1)\n",
            "Requirement already satisfied: cloudpickle>=1.1.1 in /usr/local/lib/python3.7/dist-packages (from dask[complete]) (1.6.0)\n",
            "Requirement already satisfied: packaging>=20.0 in /usr/local/lib/python3.7/dist-packages (from dask[complete]) (21.0)\n",
            "Requirement already satisfied: fsspec>=0.6.0 in /usr/local/lib/python3.7/dist-packages (from dask[complete]) (2021.7.0)\n",
            "Requirement already satisfied: partd>=0.3.10 in /usr/local/lib/python3.7/dist-packages (from dask[complete]) (1.2.0)\n",
            "Requirement already satisfied: pyyaml in /usr/local/lib/python3.7/dist-packages (from dask[complete]) (3.13)\n",
            "Requirement already satisfied: distributed==2021.08.0 in /usr/local/lib/python3.7/dist-packages (from dask[complete]) (2021.8.0)\n",
            "Requirement already satisfied: numpy>=1.18 in /usr/local/lib/python3.7/dist-packages (from dask[complete]) (1.19.5)\n",
            "Requirement already satisfied: bokeh!=2.0.0,>=1.0.0 in /usr/local/lib/python3.7/dist-packages (from dask[complete]) (2.3.3)\n",
            "Requirement already satisfied: pandas>=1.0 in /usr/local/lib/python3.7/dist-packages (from dask[complete]) (1.3.0)\n",
            "Requirement already satisfied: tblib>=1.6.0 in /usr/local/lib/python3.7/dist-packages (from distributed==2021.08.0->dask[complete]) (1.7.0)\n",
            "Requirement already satisfied: zict>=0.1.3 in /usr/local/lib/python3.7/dist-packages (from distributed==2021.08.0->dask[complete]) (2.0.0)\n",
            "Requirement already satisfied: msgpack>=0.6.0 in /usr/local/lib/python3.7/dist-packages (from distributed==2021.08.0->dask[complete]) (1.0.2)\n",
            "Requirement already satisfied: setuptools in /usr/local/lib/python3.7/dist-packages (from distributed==2021.08.0->dask[complete]) (57.2.0)\n",
            "Requirement already satisfied: click>=6.6 in /usr/local/lib/python3.7/dist-packages (from distributed==2021.08.0->dask[complete]) (7.1.2)\n",
            "Requirement already satisfied: tornado>=5 in /usr/local/lib/python3.7/dist-packages (from distributed==2021.08.0->dask[complete]) (5.1.1)\n",
            "Requirement already satisfied: sortedcontainers!=2.0.0,!=2.0.1 in /usr/local/lib/python3.7/dist-packages (from distributed==2021.08.0->dask[complete]) (2.4.0)\n",
            "Requirement already satisfied: psutil>=5.0 in /usr/local/lib/python3.7/dist-packages (from distributed==2021.08.0->dask[complete]) (5.4.8)\n",
            "Requirement already satisfied: jinja2 in /usr/local/lib/python3.7/dist-packages (from distributed==2021.08.0->dask[complete]) (2.11.3)\n",
            "Requirement already satisfied: typing-extensions>=3.7.4 in /usr/local/lib/python3.7/dist-packages (from bokeh!=2.0.0,>=1.0.0->dask[complete]) (3.7.4.3)\n",
            "Requirement already satisfied: python-dateutil>=2.1 in /usr/local/lib/python3.7/dist-packages (from bokeh!=2.0.0,>=1.0.0->dask[complete]) (2.8.2)\n",
            "Requirement already satisfied: pillow>=7.1.0 in /usr/local/lib/python3.7/dist-packages (from bokeh!=2.0.0,>=1.0.0->dask[complete]) (7.1.2)\n",
            "Requirement already satisfied: MarkupSafe>=0.23 in /usr/local/lib/python3.7/dist-packages (from jinja2->distributed==2021.08.0->dask[complete]) (2.0.1)\n",
            "Requirement already satisfied: pyparsing>=2.0.2 in /usr/local/lib/python3.7/dist-packages (from packaging>=20.0->dask[complete]) (2.4.7)\n",
            "Requirement already satisfied: pytz>=2017.3 in /usr/local/lib/python3.7/dist-packages (from pandas>=1.0->dask[complete]) (2018.9)\n",
            "Requirement already satisfied: locket in /usr/local/lib/python3.7/dist-packages (from partd>=0.3.10->dask[complete]) (0.2.1)\n",
            "Requirement already satisfied: six>=1.5 in /usr/local/lib/python3.7/dist-packages (from python-dateutil>=2.1->bokeh!=2.0.0,>=1.0.0->dask[complete]) (1.15.0)\n",
            "Requirement already satisfied: heapdict in /usr/local/lib/python3.7/dist-packages (from zict>=0.1.3->distributed==2021.08.0->dask[complete]) (1.0.1)\n"
          ],
          "name": "stdout"
        }
      ]
    },
    {
      "cell_type": "markdown",
      "metadata": {
        "id": "FdeVsU1SgTqT"
      },
      "source": [
        "**Read the file with DASK**"
      ]
    },
    {
      "cell_type": "code",
      "metadata": {
        "id": "7F6lGIVL0ydB",
        "colab": {
          "base_uri": "https://localhost:8080/"
        },
        "outputId": "dc0e7924-0ca5-4843-b5a1-51c58e142588"
      },
      "source": [
        "!python -m pip install \"dask[dataframe]\""
      ],
      "execution_count": 14,
      "outputs": [
        {
          "output_type": "stream",
          "text": [
            "Requirement already satisfied: dask[dataframe] in /usr/local/lib/python3.7/dist-packages (2021.8.0)\n",
            "Requirement already satisfied: partd>=0.3.10 in /usr/local/lib/python3.7/dist-packages (from dask[dataframe]) (1.2.0)\n",
            "Requirement already satisfied: pyyaml in /usr/local/lib/python3.7/dist-packages (from dask[dataframe]) (3.13)\n",
            "Requirement already satisfied: packaging>=20.0 in /usr/local/lib/python3.7/dist-packages (from dask[dataframe]) (21.0)\n",
            "Requirement already satisfied: toolz>=0.8.2 in /usr/local/lib/python3.7/dist-packages (from dask[dataframe]) (0.11.1)\n",
            "Requirement already satisfied: fsspec>=0.6.0 in /usr/local/lib/python3.7/dist-packages (from dask[dataframe]) (2021.7.0)\n",
            "Requirement already satisfied: cloudpickle>=1.1.1 in /usr/local/lib/python3.7/dist-packages (from dask[dataframe]) (1.6.0)\n",
            "Requirement already satisfied: pandas>=1.0 in /usr/local/lib/python3.7/dist-packages (from dask[dataframe]) (1.3.0)\n",
            "Requirement already satisfied: numpy>=1.18 in /usr/local/lib/python3.7/dist-packages (from dask[dataframe]) (1.19.5)\n",
            "Requirement already satisfied: pyparsing>=2.0.2 in /usr/local/lib/python3.7/dist-packages (from packaging>=20.0->dask[dataframe]) (2.4.7)\n",
            "Requirement already satisfied: pytz>=2017.3 in /usr/local/lib/python3.7/dist-packages (from pandas>=1.0->dask[dataframe]) (2018.9)\n",
            "Requirement already satisfied: python-dateutil>=2.7.3 in /usr/local/lib/python3.7/dist-packages (from pandas>=1.0->dask[dataframe]) (2.8.2)\n",
            "Requirement already satisfied: locket in /usr/local/lib/python3.7/dist-packages (from partd>=0.3.10->dask[dataframe]) (0.2.1)\n",
            "Requirement already satisfied: six>=1.5 in /usr/local/lib/python3.7/dist-packages (from python-dateutil>=2.7.3->pandas>=1.0->dask[dataframe]) (1.15.0)\n"
          ],
          "name": "stdout"
        }
      ]
    },
    {
      "cell_type": "code",
      "metadata": {
        "id": "zDnWwFTzzmzc"
      },
      "source": [
        "import dask.dataframe "
      ],
      "execution_count": 15,
      "outputs": []
    },
    {
      "cell_type": "code",
      "metadata": {
        "id": "cnBjJ1aQzm1q",
        "colab": {
          "base_uri": "https://localhost:8080/"
        },
        "outputId": "679d704a-858d-4fc3-a8db-26e651fee70b"
      },
      "source": [
        "#path = \"/content/drive/MyDrive/Colab Notebooks/yelp_academic_dataset_review.csv.zip\"\n",
        "import time\n",
        "start_time = time.process_time()\n",
        "dask_data = dask.dataframe.read_csv('yelp_academic_dataset_review.csv')\n",
        "print(time.process_time() - start_time, \"seconds\")\n"
      ],
      "execution_count": 16,
      "outputs": [
        {
          "output_type": "stream",
          "text": [
            "0.02197610100000702 seconds\n"
          ],
          "name": "stdout"
        }
      ]
    },
    {
      "cell_type": "markdown",
      "metadata": {
        "id": "pyERlNdLUIFi"
      },
      "source": [
        "Since the process time of dask is much less than pandas we will continue on preprocessing step with dask"
      ]
    },
    {
      "cell_type": "code",
      "metadata": {
        "colab": {
          "base_uri": "https://localhost:8080/",
          "height": 700
        },
        "id": "AopM9huROtzB",
        "outputId": "5969b15d-0ade-4193-92ad-4d57e0ac28e7"
      },
      "source": [
        "dask_data.drop_duplicates(subset=\"user_id\", keep='first', inplace=True)\n",
        "dask_data.head()"
      ],
      "execution_count": 18,
      "outputs": [
        {
          "output_type": "execute_result",
          "data": {
            "text/html": [
              "<div>\n",
              "<style scoped>\n",
              "    .dataframe tbody tr th:only-of-type {\n",
              "        vertical-align: middle;\n",
              "    }\n",
              "\n",
              "    .dataframe tbody tr th {\n",
              "        vertical-align: top;\n",
              "    }\n",
              "\n",
              "    .dataframe thead th {\n",
              "        text-align: right;\n",
              "    }\n",
              "</style>\n",
              "<table border=\"1\" class=\"dataframe\">\n",
              "  <thead>\n",
              "    <tr style=\"text-align: right;\">\n",
              "      <th></th>\n",
              "      <th>user_id</th>\n",
              "      <th>text</th>\n",
              "      <th>date</th>\n",
              "      <th>review_id</th>\n",
              "      <th>business_id</th>\n",
              "      <th>funny</th>\n",
              "      <th>cool</th>\n",
              "      <th>useful</th>\n",
              "      <th>stars</th>\n",
              "    </tr>\n",
              "  </thead>\n",
              "  <tbody>\n",
              "    <tr>\n",
              "      <th>0</th>\n",
              "      <td>b'hG7b0MtEbXx5QzbzE6C_VA'</td>\n",
              "      <td>b'Total bill for this horrible service? Over $...</td>\n",
              "      <td>b'2013-05-07 04:34:36'</td>\n",
              "      <td>b'Q1sbwvVQXV2734tPgoKj4Q'</td>\n",
              "      <td>b'ujmEBvifdJM6h6RLv4wQIg'</td>\n",
              "      <td>1</td>\n",
              "      <td>0</td>\n",
              "      <td>6</td>\n",
              "      <td>1.0</td>\n",
              "    </tr>\n",
              "    <tr>\n",
              "      <th>1</th>\n",
              "      <td>b'yXQM5uF2jS6es16SJzNHfg'</td>\n",
              "      <td>b\"I *adore* Travis at the Hard Rock's new Kell...</td>\n",
              "      <td>b'2017-01-14 21:30:33'</td>\n",
              "      <td>b'GJXCdrto3ASJOqKeVWPi6Q'</td>\n",
              "      <td>b'NZnhc2sEQy3RmzKTZnqtwQ'</td>\n",
              "      <td>0</td>\n",
              "      <td>0</td>\n",
              "      <td>0</td>\n",
              "      <td>5.0</td>\n",
              "    </tr>\n",
              "    <tr>\n",
              "      <th>2</th>\n",
              "      <td>b'n6-Gk65cPZL6Uz8qRm3NYw'</td>\n",
              "      <td>b\"I have to say that this office really has it...</td>\n",
              "      <td>b'2016-11-09 20:09:03'</td>\n",
              "      <td>b'2TzJjDVDEuAW6MR5Vuc1ug'</td>\n",
              "      <td>b'WTqjgwHlXbSFevF32_DJVw'</td>\n",
              "      <td>0</td>\n",
              "      <td>0</td>\n",
              "      <td>3</td>\n",
              "      <td>5.0</td>\n",
              "    </tr>\n",
              "    <tr>\n",
              "      <th>3</th>\n",
              "      <td>b'dacAIZ6fTM6mqwW5uxkskg'</td>\n",
              "      <td>b\"Went in for a lunch. Steak sandwich was deli...</td>\n",
              "      <td>b'2018-01-09 20:56:38'</td>\n",
              "      <td>b'yi0R0Ugj_xUx_Nek0-_Qig'</td>\n",
              "      <td>b'ikCg8xy5JIg_NGPx-MSIDA'</td>\n",
              "      <td>0</td>\n",
              "      <td>0</td>\n",
              "      <td>0</td>\n",
              "      <td>5.0</td>\n",
              "    </tr>\n",
              "    <tr>\n",
              "      <th>4</th>\n",
              "      <td>b'ssoyf2_x0EQMed6fgHeMyQ'</td>\n",
              "      <td>b'Today was my second out of three sessions I ...</td>\n",
              "      <td>b'2018-01-30 23:07:38'</td>\n",
              "      <td>b'11a8sVPMUFtaC7_ABRkmtw'</td>\n",
              "      <td>b'b1b1eb3uo-w561D0ZfCEiQ'</td>\n",
              "      <td>0</td>\n",
              "      <td>0</td>\n",
              "      <td>7</td>\n",
              "      <td>1.0</td>\n",
              "    </tr>\n",
              "  </tbody>\n",
              "</table>\n",
              "</div>"
            ],
            "text/plain": [
              "                     user_id  ... stars\n",
              "0  b'hG7b0MtEbXx5QzbzE6C_VA'  ...   1.0\n",
              "1  b'yXQM5uF2jS6es16SJzNHfg'  ...   5.0\n",
              "2  b'n6-Gk65cPZL6Uz8qRm3NYw'  ...   5.0\n",
              "3  b'dacAIZ6fTM6mqwW5uxkskg'  ...   5.0\n",
              "4  b'ssoyf2_x0EQMed6fgHeMyQ'  ...   1.0\n",
              "\n",
              "[5 rows x 9 columns]"
            ]
          },
          "metadata": {
            "tags": []
          },
          "execution_count": 18
        }
      ]
    },
    {
      "cell_type": "code",
      "metadata": {
        "colab": {
          "base_uri": "https://localhost:8080/"
        },
        "id": "VZW4-9HAO1OX",
        "outputId": "b89e363e-0f47-4d8a-fcb4-e2308b2fabc1"
      },
      "source": [
        "dask_data.isnull().sum().sum()"
      ],
      "execution_count": 19,
      "outputs": [
        {
          "output_type": "execute_result",
          "data": {
            "text/plain": [
              "dd.Scalar<series-..., dtype=int64>"
            ]
          },
          "metadata": {
            "tags": []
          },
          "execution_count": 19
        }
      ]
    },
    {
      "cell_type": "markdown",
      "metadata": {
        "id": "-x0VawRmgYoy"
      },
      "source": [
        "**Read the file with MODIN**"
      ]
    },
    {
      "cell_type": "code",
      "metadata": {
        "id": "RpE329QBzm6d",
        "colab": {
          "base_uri": "https://localhost:8080/"
        },
        "outputId": "01f70723-a8da-4e02-8449-b5e946b8633c"
      },
      "source": [
        "pip install modin[ray]"
      ],
      "execution_count": 22,
      "outputs": [
        {
          "output_type": "stream",
          "text": [
            "Requirement already satisfied: modin[ray] in /usr/local/lib/python3.7/dist-packages (0.10.1)\n",
            "Requirement already satisfied: numpy>=1.16.5 in /usr/local/lib/python3.7/dist-packages (from modin[ray]) (1.19.5)\n",
            "Requirement already satisfied: packaging in /usr/local/lib/python3.7/dist-packages (from modin[ray]) (21.0)\n",
            "Requirement already satisfied: pandas==1.3.0 in /usr/local/lib/python3.7/dist-packages (from modin[ray]) (1.3.0)\n",
            "Requirement already satisfied: pyarrow>=1.0 in /usr/local/lib/python3.7/dist-packages (from modin[ray]) (3.0.0)\n",
            "Requirement already satisfied: ray[default]>=1.4.0 in /usr/local/lib/python3.7/dist-packages (from modin[ray]) (1.5.2)\n",
            "Requirement already satisfied: pytz>=2017.3 in /usr/local/lib/python3.7/dist-packages (from pandas==1.3.0->modin[ray]) (2018.9)\n",
            "Requirement already satisfied: python-dateutil>=2.7.3 in /usr/local/lib/python3.7/dist-packages (from pandas==1.3.0->modin[ray]) (2.8.2)\n",
            "Requirement already satisfied: six>=1.5 in /usr/local/lib/python3.7/dist-packages (from python-dateutil>=2.7.3->pandas==1.3.0->modin[ray]) (1.15.0)\n",
            "Requirement already satisfied: requests in /usr/local/lib/python3.7/dist-packages (from ray[default]>=1.4.0->modin[ray]) (2.23.0)\n",
            "Requirement already satisfied: grpcio>=1.28.1 in /usr/local/lib/python3.7/dist-packages (from ray[default]>=1.4.0->modin[ray]) (1.34.1)\n",
            "Requirement already satisfied: aiohttp in /usr/local/lib/python3.7/dist-packages (from ray[default]>=1.4.0->modin[ray]) (3.7.4.post0)\n",
            "Requirement already satisfied: msgpack<2.0.0,>=1.0.0 in /usr/local/lib/python3.7/dist-packages (from ray[default]>=1.4.0->modin[ray]) (1.0.2)\n",
            "Requirement already satisfied: redis>=3.5.0 in /usr/local/lib/python3.7/dist-packages (from ray[default]>=1.4.0->modin[ray]) (3.5.3)\n",
            "Requirement already satisfied: jsonschema in /usr/local/lib/python3.7/dist-packages (from ray[default]>=1.4.0->modin[ray]) (2.6.0)\n",
            "Requirement already satisfied: pydantic>=1.8 in /usr/local/lib/python3.7/dist-packages (from ray[default]>=1.4.0->modin[ray]) (1.8.2)\n",
            "Requirement already satisfied: filelock in /usr/local/lib/python3.7/dist-packages (from ray[default]>=1.4.0->modin[ray]) (3.0.12)\n",
            "Requirement already satisfied: aiohttp-cors in /usr/local/lib/python3.7/dist-packages (from ray[default]>=1.4.0->modin[ray]) (0.7.0)\n",
            "Requirement already satisfied: protobuf>=3.15.3 in /usr/local/lib/python3.7/dist-packages (from ray[default]>=1.4.0->modin[ray]) (3.17.3)\n",
            "Requirement already satisfied: pyyaml in /usr/local/lib/python3.7/dist-packages (from ray[default]>=1.4.0->modin[ray]) (3.13)\n",
            "Requirement already satisfied: colorama in /usr/local/lib/python3.7/dist-packages (from ray[default]>=1.4.0->modin[ray]) (0.4.4)\n",
            "Requirement already satisfied: py-spy>=0.2.0 in /usr/local/lib/python3.7/dist-packages (from ray[default]>=1.4.0->modin[ray]) (0.3.8)\n",
            "Requirement already satisfied: aioredis<2 in /usr/local/lib/python3.7/dist-packages (from ray[default]>=1.4.0->modin[ray]) (1.3.1)\n",
            "Requirement already satisfied: prometheus-client>=0.7.1 in /usr/local/lib/python3.7/dist-packages (from ray[default]>=1.4.0->modin[ray]) (0.11.0)\n",
            "Requirement already satisfied: click>=7.0 in /usr/local/lib/python3.7/dist-packages (from ray[default]>=1.4.0->modin[ray]) (7.1.2)\n",
            "Requirement already satisfied: opencensus in /usr/local/lib/python3.7/dist-packages (from ray[default]>=1.4.0->modin[ray]) (0.7.13)\n",
            "Requirement already satisfied: gpustat in /usr/local/lib/python3.7/dist-packages (from ray[default]>=1.4.0->modin[ray]) (0.6.0)\n",
            "Requirement already satisfied: colorful in /usr/local/lib/python3.7/dist-packages (from ray[default]>=1.4.0->modin[ray]) (0.5.4)\n",
            "Requirement already satisfied: async-timeout in /usr/local/lib/python3.7/dist-packages (from aioredis<2->ray[default]>=1.4.0->modin[ray]) (3.0.1)\n",
            "Requirement already satisfied: hiredis in /usr/local/lib/python3.7/dist-packages (from aioredis<2->ray[default]>=1.4.0->modin[ray]) (2.0.0)\n",
            "Requirement already satisfied: typing-extensions>=3.7.4.3 in /usr/local/lib/python3.7/dist-packages (from pydantic>=1.8->ray[default]>=1.4.0->modin[ray]) (3.7.4.3)\n",
            "Requirement already satisfied: chardet<5.0,>=2.0 in /usr/local/lib/python3.7/dist-packages (from aiohttp->ray[default]>=1.4.0->modin[ray]) (3.0.4)\n",
            "Requirement already satisfied: yarl<2.0,>=1.0 in /usr/local/lib/python3.7/dist-packages (from aiohttp->ray[default]>=1.4.0->modin[ray]) (1.6.3)\n",
            "Requirement already satisfied: attrs>=17.3.0 in /usr/local/lib/python3.7/dist-packages (from aiohttp->ray[default]>=1.4.0->modin[ray]) (21.2.0)\n",
            "Requirement already satisfied: multidict<7.0,>=4.5 in /usr/local/lib/python3.7/dist-packages (from aiohttp->ray[default]>=1.4.0->modin[ray]) (5.1.0)\n",
            "Requirement already satisfied: idna>=2.0 in /usr/local/lib/python3.7/dist-packages (from yarl<2.0,>=1.0->aiohttp->ray[default]>=1.4.0->modin[ray]) (2.10)\n",
            "Requirement already satisfied: nvidia-ml-py3>=7.352.0 in /usr/local/lib/python3.7/dist-packages (from gpustat->ray[default]>=1.4.0->modin[ray]) (7.352.0)\n",
            "Requirement already satisfied: psutil in /usr/local/lib/python3.7/dist-packages (from gpustat->ray[default]>=1.4.0->modin[ray]) (5.4.8)\n",
            "Requirement already satisfied: blessings>=1.6 in /usr/local/lib/python3.7/dist-packages (from gpustat->ray[default]>=1.4.0->modin[ray]) (1.7)\n",
            "Requirement already satisfied: opencensus-context==0.1.2 in /usr/local/lib/python3.7/dist-packages (from opencensus->ray[default]>=1.4.0->modin[ray]) (0.1.2)\n",
            "Requirement already satisfied: google-api-core<2.0.0,>=1.0.0 in /usr/local/lib/python3.7/dist-packages (from opencensus->ray[default]>=1.4.0->modin[ray]) (1.26.3)\n",
            "Requirement already satisfied: google-auth<2.0dev,>=1.21.1 in /usr/local/lib/python3.7/dist-packages (from google-api-core<2.0.0,>=1.0.0->opencensus->ray[default]>=1.4.0->modin[ray]) (1.34.0)\n",
            "Requirement already satisfied: googleapis-common-protos<2.0dev,>=1.6.0 in /usr/local/lib/python3.7/dist-packages (from google-api-core<2.0.0,>=1.0.0->opencensus->ray[default]>=1.4.0->modin[ray]) (1.53.0)\n",
            "Requirement already satisfied: setuptools>=40.3.0 in /usr/local/lib/python3.7/dist-packages (from google-api-core<2.0.0,>=1.0.0->opencensus->ray[default]>=1.4.0->modin[ray]) (57.2.0)\n",
            "Requirement already satisfied: cachetools<5.0,>=2.0.0 in /usr/local/lib/python3.7/dist-packages (from google-auth<2.0dev,>=1.21.1->google-api-core<2.0.0,>=1.0.0->opencensus->ray[default]>=1.4.0->modin[ray]) (4.2.2)\n",
            "Requirement already satisfied: pyasn1-modules>=0.2.1 in /usr/local/lib/python3.7/dist-packages (from google-auth<2.0dev,>=1.21.1->google-api-core<2.0.0,>=1.0.0->opencensus->ray[default]>=1.4.0->modin[ray]) (0.2.8)\n",
            "Requirement already satisfied: rsa<5,>=3.1.4 in /usr/local/lib/python3.7/dist-packages (from google-auth<2.0dev,>=1.21.1->google-api-core<2.0.0,>=1.0.0->opencensus->ray[default]>=1.4.0->modin[ray]) (4.7.2)\n",
            "Requirement already satisfied: pyparsing>=2.0.2 in /usr/local/lib/python3.7/dist-packages (from packaging->modin[ray]) (2.4.7)\n",
            "Requirement already satisfied: pyasn1<0.5.0,>=0.4.6 in /usr/local/lib/python3.7/dist-packages (from pyasn1-modules>=0.2.1->google-auth<2.0dev,>=1.21.1->google-api-core<2.0.0,>=1.0.0->opencensus->ray[default]>=1.4.0->modin[ray]) (0.4.8)\n",
            "Requirement already satisfied: certifi>=2017.4.17 in /usr/local/lib/python3.7/dist-packages (from requests->ray[default]>=1.4.0->modin[ray]) (2021.5.30)\n",
            "Requirement already satisfied: urllib3!=1.25.0,!=1.25.1,<1.26,>=1.21.1 in /usr/local/lib/python3.7/dist-packages (from requests->ray[default]>=1.4.0->modin[ray]) (1.24.3)\n"
          ],
          "name": "stdout"
        }
      ]
    },
    {
      "cell_type": "code",
      "metadata": {
        "id": "7at3oTglznQa",
        "colab": {
          "base_uri": "https://localhost:8080/"
        },
        "outputId": "a4736650-87eb-4446-a179-f9dc251cbe20"
      },
      "source": [
        "import modin.pandas as pdd\n",
        "import time\n",
        "#path = \"/content/drive/MyDrive/Colab Notebooks/yelp_academic_dataset_review.csv.zip\"\n",
        "start_time = time.process_time()\n",
        "modin_data = pdd.read_csv('yelp_academic_dataset_review.csv')\n",
        "print(time.process_time() - start_time, \"seconds\")\n"
      ],
      "execution_count": null,
      "outputs": [
        {
          "output_type": "stream",
          "text": [
            "UserWarning: Ray execution environment not yet initialized. Initializing...\n",
            "To remove this warning, run the following python code before doing dataframe operations:\n",
            "\n",
            "    import ray\n",
            "    ray.init()\n",
            "\n",
            "UserWarning: The size of /dev/shm is too small (6308233216 bytes). The required size at least half of RAM (6811099136 bytes). Please, delete files in /dev/shm or increase size of /dev/shm with --shm-size in Docker. Also, you can set the required memory size for each Ray worker in bytes to MODIN_MEMORY environment variable.\n",
            "tcmalloc: large alloc 2426716160 bytes == 0x563d9b0d8000 @  0x7f08c76491e7 0x563c664f6a18 0x563c664c1987 0x563c665a36be 0x563c664c4ea9 0x563c665b6c0d 0x563c665390d8 0x563c66533c35 0x563c664c673a 0x563c6653593b 0x563c66533c35 0x563c664c673a 0x563c6653593b 0x563c66533c35 0x563c664c6fec 0x563c664c71f1 0x563c66536318 0x563c66534235 0x563c664c6fec 0x563c664c71f1 0x563c66536318 0x563c66533c35 0x563c664c6fec 0x563c664c71f1 0x563c66536318 0x563c66533c35 0x563c664c6fec 0x563c664c71f1 0x563c66536318 0x563c66534235 0x563c66405e2c\n",
            "tcmalloc: large alloc 2426716160 bytes == 0x563d9b0d8000 @  0x7f08c76491e7 0x563c664f6a18 0x563c664c1987 0x563c665a36be 0x563c664c4ea9 0x563c665b6c0d 0x563c665390d8 0x563c66533c35 0x563c664c673a 0x563c6653593b 0x563c66533c35 0x563c664c673a 0x563c6653593b 0x563c66533c35 0x563c664c6fec 0x563c664c71f1 0x563c66536318 0x563c66534235 0x563c664c6fec 0x563c664c71f1 0x563c66536318 0x563c66533c35 0x563c664c6fec 0x563c664c71f1 0x563c66536318 0x563c66533c35 0x563c664c6fec 0x563c664c71f1 0x563c66536318 0x563c66534235 0x563c66405e2c\n",
            "\u001b[2m\u001b[36m(pid=4043)\u001b[0m tcmalloc: large alloc 2426716160 bytes == 0x561a215f0000 @  0x7fce89dc81e7 0x561a1e673a18 0x561a1e63e987 0x561a1e7206be 0x561a1e641ea9 0x561a1e733c0d 0x561a1e6b60d8 0x561a1e6b0c35 0x561a1e582e2c 0x561a1e6b3318 0x561a1e582d14 0x561a1e6b3318 0x561a1e6b0dcc 0x561a1e582eb1 0x7fce86c26b32 0x7fce86cca053 0x7fce86c2d0c5 0x7fce86d88a2a 0x7fce86d0dbc2 0x7fce86da4945 0x7fce86da528a 0x7fce86d21678 0x7fce870d0e36 0x7fce871cbe18 0x7fce871cc9d1 0x7fce871ce520 0x7fce86d90c75 0x7fce86c28fe7 0x561a1e641f01 0x561a1e733c0d 0x561a1e6b60d8\n",
            "\u001b[2m\u001b[36m(pid=4042)\u001b[0m tcmalloc: large alloc 2426716160 bytes == 0x55b29c450000 @  0x7f336c8751e7 0x55b298499a18 0x55b298464987 0x55b2985466be 0x55b298467ea9 0x55b298559c0d 0x55b2984dc0d8 0x55b2984d6c35 0x55b2983a8e2c 0x55b2984d9318 0x55b2983a8d14 0x55b2984d9318 0x55b2984d6dcc 0x55b2983a8eb1 0x7f33696d3b32 0x7f3369777053 0x7f33696da0c5 0x7f3369835a2a 0x7f33697babc2 0x7f3369851945 0x7f336985228a 0x7f33697ce678 0x7f3369b7de36 0x7f3369c78e18 0x7f3369c799d1 0x7f3369c7b520 0x7f336983dc75 0x7f33696d5fe7 0x55b298467f01 0x55b298559c0d 0x55b2984dc0d8\n"
          ],
          "name": "stderr"
        }
      ]
    },
    {
      "cell_type": "markdown",
      "metadata": {
        "id": "F1TuatzUvpVg"
      },
      "source": [
        "**YAML file creation**"
      ]
    },
    {
      "cell_type": "code",
      "metadata": {
        "id": "UqqYzJFNvtrl",
        "colab": {
          "base_uri": "https://localhost:8080/"
        },
        "outputId": "8be9b23a-fde5-4595-bf92-f82fe1148ce6"
      },
      "source": [
        "%%writefile testutility.py\n",
        "import logging\n",
        "import os\n",
        "import subprocess\n",
        "import yaml\n",
        "import pandas as pd\n",
        "import datetime \n",
        "import gc\n",
        "import re\n",
        "\n",
        "\n",
        "################\n",
        "# File Reading #\n",
        "################\n",
        "\n",
        "def read_config_file(filepath):\n",
        "    with open(filepath, 'r') as stream:\n",
        "        try:\n",
        "            return yaml.safe_load(stream)\n",
        "        except yaml.YAMLError as exc:\n",
        "            logging.error(exc)\n",
        "\n",
        "\n",
        "def replacer(string, char):\n",
        "    pattern = char + '{2,}'\n",
        "    string = re.sub(pattern, char, string) \n",
        "    return string\n",
        "\n",
        "def col_header_val(df,table_config):\n",
        "    '''\n",
        "    replace whitespaces in the column\n",
        "    and standardized column names\n",
        "    '''\n",
        "    df.columns = df.columns.str.lower()\n",
        "    df.columns = df.columns.str.replace('[^\\w]','_',regex=True)\n",
        "    df.columns = list(map(lambda x: x.strip('_'), list(df.columns)))\n",
        "    df.columns = list(map(lambda x: replacer(x,'_'), list(df.columns)))\n",
        "    expected_col = list(map(lambda x: x.lower(),  table_config['columns']))\n",
        "    expected_col.sort()\n",
        "    df.columns =list(map(lambda x: x.lower(), list(df.columns)))\n",
        "    df = df.reindex(sorted(df.columns), axis=1)\n",
        "    if len(df.columns) == len(expected_col) and list(expected_col)  == list(df.columns):\n",
        "        print(\"column name and column length validation passed\")\n",
        "        return 1\n",
        "    else:\n",
        "        print(\"column name and column length validation failed\")\n",
        "        mismatched_columns_file = list(set(df.columns).difference(expected_col))\n",
        "        print(\"Following File columns are not in the YAML file\",mismatched_columns_file)\n",
        "        missing_YAML_file = list(set(expected_col).difference(df.columns))\n",
        "        print(\"Following YAML columns are not in the file uploaded\",missing_YAML_file)\n",
        "        logging.info(f'df columns: {df.columns}')\n",
        "        logging.info(f'expected columns: {expected_col}')\n",
        "        return 0"
      ],
      "execution_count": 1,
      "outputs": [
        {
          "output_type": "stream",
          "text": [
            "Overwriting testutility.py\n"
          ],
          "name": "stdout"
        }
      ]
    },
    {
      "cell_type": "code",
      "metadata": {
        "id": "SpN7BkECv414",
        "colab": {
          "base_uri": "https://localhost:8080/"
        },
        "outputId": "dd00db0d-25aa-4ec0-b3a5-9c6ffdbfc819"
      },
      "source": [
        "%%writefile yaml_file.yaml\n",
        "#WRITE YAML FILE\n",
        "file_type: csv\n",
        "file_name: yelp_academic_dataset_review\n",
        "dataset_name: df\n",
        "inbound_delimiter: \",\"\n",
        "outbound_delimiter: \"|\"\n",
        "skip_leading_rows: 1\n",
        "columns:  \n",
        "    - user_id\n",
        "    - text\n",
        "    - date\n",
        "    - review_id\n",
        "    - business_id\n",
        "    - funny\n",
        "    - cool\n",
        "    - useful\n",
        "    - stars"
      ],
      "execution_count": 2,
      "outputs": [
        {
          "output_type": "stream",
          "text": [
            "Overwriting yaml_file.yaml\n"
          ],
          "name": "stdout"
        }
      ]
    },
    {
      "cell_type": "code",
      "metadata": {
        "id": "kQQOi4RsznVs"
      },
      "source": [
        "import testutility as util\n",
        "config_data = util.read_config_file(\"yaml_file.yaml\")"
      ],
      "execution_count": 3,
      "outputs": []
    },
    {
      "cell_type": "code",
      "metadata": {
        "id": "lugsCJPjznXz",
        "colab": {
          "base_uri": "https://localhost:8080/"
        },
        "outputId": "fa36a226-8c89-41fe-ff38-4c3c23a28cf9"
      },
      "source": [
        "config_data"
      ],
      "execution_count": 4,
      "outputs": [
        {
          "output_type": "execute_result",
          "data": {
            "text/plain": [
              "{'file_type': 'csv',\n",
              " 'file_name': 'yelp_academic_dataset_review',\n",
              " 'dataset_name': 'df',\n",
              " 'inbound_delimiter': ',',\n",
              " 'outbound_delimiter': '|',\n",
              " 'skip_leading_rows': 1,\n",
              " 'columns': ['user_id',\n",
              "  'text',\n",
              "  'date',\n",
              "  'review_id',\n",
              "  'business_id',\n",
              "  'funny',\n",
              "  'cool',\n",
              "  'useful',\n",
              "  'stars']}"
            ]
          },
          "metadata": {
            "tags": []
          },
          "execution_count": 4
        }
      ]
    },
    {
      "cell_type": "code",
      "metadata": {
        "id": "dQfExVmDznZc",
        "colab": {
          "base_uri": "https://localhost:8080/",
          "height": 35
        },
        "outputId": "67af9c49-d619-43e9-ac11-9b1e6052fa17"
      },
      "source": [
        "config_data['inbound_delimiter']"
      ],
      "execution_count": 6,
      "outputs": [
        {
          "output_type": "execute_result",
          "data": {
            "application/vnd.google.colaboratory.intrinsic+json": {
              "type": "string"
            },
            "text/plain": [
              "','"
            ]
          },
          "metadata": {
            "tags": []
          },
          "execution_count": 6
        }
      ]
    },
    {
      "cell_type": "code",
      "metadata": {
        "id": "Q_IVgwlYzna8",
        "colab": {
          "base_uri": "https://localhost:8080/",
          "height": 734
        },
        "outputId": "3a469193-1189-42c6-f8b4-58ac5b8d278d"
      },
      "source": [
        "import pandas as pd\n",
        "file_type = config_data['file_type']\n",
        "source_file = \"./\" + config_data['file_name'] + f'.{file_type}'\n",
        "#print(\"\",source_file)\n",
        "df = pd.read_csv(source_file,config_data['inbound_delimiter'])\n",
        "df.head()"
      ],
      "execution_count": 9,
      "outputs": [
        {
          "output_type": "stream",
          "text": [
            "/usr/local/lib/python3.7/dist-packages/IPython/core/interactiveshell.py:3441: FutureWarning: In a future version of pandas all arguments of read_csv except for the argument 'filepath_or_buffer' will be keyword-only\n",
            "  exec(code_obj, self.user_global_ns, self.user_ns)\n"
          ],
          "name": "stderr"
        },
        {
          "output_type": "execute_result",
          "data": {
            "text/html": [
              "<div>\n",
              "<style scoped>\n",
              "    .dataframe tbody tr th:only-of-type {\n",
              "        vertical-align: middle;\n",
              "    }\n",
              "\n",
              "    .dataframe tbody tr th {\n",
              "        vertical-align: top;\n",
              "    }\n",
              "\n",
              "    .dataframe thead th {\n",
              "        text-align: right;\n",
              "    }\n",
              "</style>\n",
              "<table border=\"1\" class=\"dataframe\">\n",
              "  <thead>\n",
              "    <tr style=\"text-align: right;\">\n",
              "      <th></th>\n",
              "      <th>user_id</th>\n",
              "      <th>text</th>\n",
              "      <th>date</th>\n",
              "      <th>review_id</th>\n",
              "      <th>business_id</th>\n",
              "      <th>funny</th>\n",
              "      <th>cool</th>\n",
              "      <th>useful</th>\n",
              "      <th>stars</th>\n",
              "    </tr>\n",
              "  </thead>\n",
              "  <tbody>\n",
              "    <tr>\n",
              "      <th>0</th>\n",
              "      <td>b'hG7b0MtEbXx5QzbzE6C_VA'</td>\n",
              "      <td>b'Total bill for this horrible service? Over $...</td>\n",
              "      <td>b'2013-05-07 04:34:36'</td>\n",
              "      <td>b'Q1sbwvVQXV2734tPgoKj4Q'</td>\n",
              "      <td>b'ujmEBvifdJM6h6RLv4wQIg'</td>\n",
              "      <td>1</td>\n",
              "      <td>0</td>\n",
              "      <td>6</td>\n",
              "      <td>1.0</td>\n",
              "    </tr>\n",
              "    <tr>\n",
              "      <th>1</th>\n",
              "      <td>b'yXQM5uF2jS6es16SJzNHfg'</td>\n",
              "      <td>b\"I *adore* Travis at the Hard Rock's new Kell...</td>\n",
              "      <td>b'2017-01-14 21:30:33'</td>\n",
              "      <td>b'GJXCdrto3ASJOqKeVWPi6Q'</td>\n",
              "      <td>b'NZnhc2sEQy3RmzKTZnqtwQ'</td>\n",
              "      <td>0</td>\n",
              "      <td>0</td>\n",
              "      <td>0</td>\n",
              "      <td>5.0</td>\n",
              "    </tr>\n",
              "    <tr>\n",
              "      <th>2</th>\n",
              "      <td>b'n6-Gk65cPZL6Uz8qRm3NYw'</td>\n",
              "      <td>b\"I have to say that this office really has it...</td>\n",
              "      <td>b'2016-11-09 20:09:03'</td>\n",
              "      <td>b'2TzJjDVDEuAW6MR5Vuc1ug'</td>\n",
              "      <td>b'WTqjgwHlXbSFevF32_DJVw'</td>\n",
              "      <td>0</td>\n",
              "      <td>0</td>\n",
              "      <td>3</td>\n",
              "      <td>5.0</td>\n",
              "    </tr>\n",
              "    <tr>\n",
              "      <th>3</th>\n",
              "      <td>b'dacAIZ6fTM6mqwW5uxkskg'</td>\n",
              "      <td>b\"Went in for a lunch. Steak sandwich was deli...</td>\n",
              "      <td>b'2018-01-09 20:56:38'</td>\n",
              "      <td>b'yi0R0Ugj_xUx_Nek0-_Qig'</td>\n",
              "      <td>b'ikCg8xy5JIg_NGPx-MSIDA'</td>\n",
              "      <td>0</td>\n",
              "      <td>0</td>\n",
              "      <td>0</td>\n",
              "      <td>5.0</td>\n",
              "    </tr>\n",
              "    <tr>\n",
              "      <th>4</th>\n",
              "      <td>b'ssoyf2_x0EQMed6fgHeMyQ'</td>\n",
              "      <td>b'Today was my second out of three sessions I ...</td>\n",
              "      <td>b'2018-01-30 23:07:38'</td>\n",
              "      <td>b'11a8sVPMUFtaC7_ABRkmtw'</td>\n",
              "      <td>b'b1b1eb3uo-w561D0ZfCEiQ'</td>\n",
              "      <td>0</td>\n",
              "      <td>0</td>\n",
              "      <td>7</td>\n",
              "      <td>1.0</td>\n",
              "    </tr>\n",
              "  </tbody>\n",
              "</table>\n",
              "</div>"
            ],
            "text/plain": [
              "                     user_id  ... stars\n",
              "0  b'hG7b0MtEbXx5QzbzE6C_VA'  ...   1.0\n",
              "1  b'yXQM5uF2jS6es16SJzNHfg'  ...   5.0\n",
              "2  b'n6-Gk65cPZL6Uz8qRm3NYw'  ...   5.0\n",
              "3  b'dacAIZ6fTM6mqwW5uxkskg'  ...   5.0\n",
              "4  b'ssoyf2_x0EQMed6fgHeMyQ'  ...   1.0\n",
              "\n",
              "[5 rows x 9 columns]"
            ]
          },
          "metadata": {
            "tags": []
          },
          "execution_count": 9
        }
      ]
    },
    {
      "cell_type": "code",
      "metadata": {
        "id": "anM_ONqXymnQ",
        "colab": {
          "base_uri": "https://localhost:8080/"
        },
        "outputId": "d4c52312-5deb-4f8d-b5fd-72f713808029"
      },
      "source": [
        "util.col_header_val(df,config_data)"
      ],
      "execution_count": 10,
      "outputs": [
        {
          "output_type": "stream",
          "text": [
            "column name and column length validation passed\n"
          ],
          "name": "stdout"
        },
        {
          "output_type": "execute_result",
          "data": {
            "text/plain": [
              "1"
            ]
          },
          "metadata": {
            "tags": []
          },
          "execution_count": 10
        }
      ]
    },
    {
      "cell_type": "code",
      "metadata": {
        "id": "5sL61-4xympW",
        "colab": {
          "base_uri": "https://localhost:8080/"
        },
        "outputId": "035a37f5-3779-42a6-b2ff-ca6c79501c3e"
      },
      "source": [
        "print(\"columns of files are:\" ,df.columns)\n",
        "print(\"columns of YAML are:\" ,config_data['columns'])"
      ],
      "execution_count": 11,
      "outputs": [
        {
          "output_type": "stream",
          "text": [
            "columns of files are: Index(['user_id', 'text', 'date', 'review_id', 'business_id', 'funny', 'cool',\n",
            "       'useful', 'stars'],\n",
            "      dtype='object')\n",
            "columns of YAML are: ['user_id', 'text', 'date', 'review_id', 'business_id', 'funny', 'cool', 'useful', 'stars']\n"
          ],
          "name": "stdout"
        }
      ]
    },
    {
      "cell_type": "code",
      "metadata": {
        "id": "PWcIXnKZymrZ"
      },
      "source": [
        "df.to_csv('df_gz.csv.gz', compression='gzip')"
      ],
      "execution_count": 12,
      "outputs": []
    },
    {
      "cell_type": "code",
      "metadata": {
        "id": "UkAhjABBymum"
      },
      "source": [
        "import pandas as pd\n",
        "df4 = pd.read_csv(\"df_gz.csv.gz\")"
      ],
      "execution_count": 2,
      "outputs": []
    },
    {
      "cell_type": "code",
      "metadata": {
        "id": "ehiftyIJymw0",
        "colab": {
          "base_uri": "https://localhost:8080/",
          "height": 717
        },
        "outputId": "ac6e8796-1fce-40f6-b75f-b788aa462ba5"
      },
      "source": [
        "df4.head(5)"
      ],
      "execution_count": 3,
      "outputs": [
        {
          "output_type": "execute_result",
          "data": {
            "text/html": [
              "<div>\n",
              "<style scoped>\n",
              "    .dataframe tbody tr th:only-of-type {\n",
              "        vertical-align: middle;\n",
              "    }\n",
              "\n",
              "    .dataframe tbody tr th {\n",
              "        vertical-align: top;\n",
              "    }\n",
              "\n",
              "    .dataframe thead th {\n",
              "        text-align: right;\n",
              "    }\n",
              "</style>\n",
              "<table border=\"1\" class=\"dataframe\">\n",
              "  <thead>\n",
              "    <tr style=\"text-align: right;\">\n",
              "      <th></th>\n",
              "      <th>Unnamed: 0</th>\n",
              "      <th>user_id</th>\n",
              "      <th>text</th>\n",
              "      <th>date</th>\n",
              "      <th>review_id</th>\n",
              "      <th>business_id</th>\n",
              "      <th>funny</th>\n",
              "      <th>cool</th>\n",
              "      <th>useful</th>\n",
              "      <th>stars</th>\n",
              "    </tr>\n",
              "  </thead>\n",
              "  <tbody>\n",
              "    <tr>\n",
              "      <th>0</th>\n",
              "      <td>0</td>\n",
              "      <td>b'hG7b0MtEbXx5QzbzE6C_VA'</td>\n",
              "      <td>b'Total bill for this horrible service? Over $...</td>\n",
              "      <td>b'2013-05-07 04:34:36'</td>\n",
              "      <td>b'Q1sbwvVQXV2734tPgoKj4Q'</td>\n",
              "      <td>b'ujmEBvifdJM6h6RLv4wQIg'</td>\n",
              "      <td>1</td>\n",
              "      <td>0</td>\n",
              "      <td>6</td>\n",
              "      <td>1.0</td>\n",
              "    </tr>\n",
              "    <tr>\n",
              "      <th>1</th>\n",
              "      <td>1</td>\n",
              "      <td>b'yXQM5uF2jS6es16SJzNHfg'</td>\n",
              "      <td>b\"I *adore* Travis at the Hard Rock's new Kell...</td>\n",
              "      <td>b'2017-01-14 21:30:33'</td>\n",
              "      <td>b'GJXCdrto3ASJOqKeVWPi6Q'</td>\n",
              "      <td>b'NZnhc2sEQy3RmzKTZnqtwQ'</td>\n",
              "      <td>0</td>\n",
              "      <td>0</td>\n",
              "      <td>0</td>\n",
              "      <td>5.0</td>\n",
              "    </tr>\n",
              "    <tr>\n",
              "      <th>2</th>\n",
              "      <td>2</td>\n",
              "      <td>b'n6-Gk65cPZL6Uz8qRm3NYw'</td>\n",
              "      <td>b\"I have to say that this office really has it...</td>\n",
              "      <td>b'2016-11-09 20:09:03'</td>\n",
              "      <td>b'2TzJjDVDEuAW6MR5Vuc1ug'</td>\n",
              "      <td>b'WTqjgwHlXbSFevF32_DJVw'</td>\n",
              "      <td>0</td>\n",
              "      <td>0</td>\n",
              "      <td>3</td>\n",
              "      <td>5.0</td>\n",
              "    </tr>\n",
              "    <tr>\n",
              "      <th>3</th>\n",
              "      <td>3</td>\n",
              "      <td>b'dacAIZ6fTM6mqwW5uxkskg'</td>\n",
              "      <td>b\"Went in for a lunch. Steak sandwich was deli...</td>\n",
              "      <td>b'2018-01-09 20:56:38'</td>\n",
              "      <td>b'yi0R0Ugj_xUx_Nek0-_Qig'</td>\n",
              "      <td>b'ikCg8xy5JIg_NGPx-MSIDA'</td>\n",
              "      <td>0</td>\n",
              "      <td>0</td>\n",
              "      <td>0</td>\n",
              "      <td>5.0</td>\n",
              "    </tr>\n",
              "    <tr>\n",
              "      <th>4</th>\n",
              "      <td>4</td>\n",
              "      <td>b'ssoyf2_x0EQMed6fgHeMyQ'</td>\n",
              "      <td>b'Today was my second out of three sessions I ...</td>\n",
              "      <td>b'2018-01-30 23:07:38'</td>\n",
              "      <td>b'11a8sVPMUFtaC7_ABRkmtw'</td>\n",
              "      <td>b'b1b1eb3uo-w561D0ZfCEiQ'</td>\n",
              "      <td>0</td>\n",
              "      <td>0</td>\n",
              "      <td>7</td>\n",
              "      <td>1.0</td>\n",
              "    </tr>\n",
              "  </tbody>\n",
              "</table>\n",
              "</div>"
            ],
            "text/plain": [
              "   Unnamed: 0                    user_id  ... useful stars\n",
              "0           0  b'hG7b0MtEbXx5QzbzE6C_VA'  ...      6   1.0\n",
              "1           1  b'yXQM5uF2jS6es16SJzNHfg'  ...      0   5.0\n",
              "2           2  b'n6-Gk65cPZL6Uz8qRm3NYw'  ...      3   5.0\n",
              "3           3  b'dacAIZ6fTM6mqwW5uxkskg'  ...      0   5.0\n",
              "4           4  b'ssoyf2_x0EQMed6fgHeMyQ'  ...      7   1.0\n",
              "\n",
              "[5 rows x 10 columns]"
            ]
          },
          "metadata": {
            "tags": []
          },
          "execution_count": 3
        }
      ]
    },
    {
      "cell_type": "code",
      "metadata": {
        "id": "PTgHffAq78iv",
        "colab": {
          "base_uri": "https://localhost:8080/"
        },
        "outputId": "a82eab08-1936-4b45-9b65-ea920c54b420"
      },
      "source": [
        "df4.shape"
      ],
      "execution_count": 4,
      "outputs": [
        {
          "output_type": "execute_result",
          "data": {
            "text/plain": [
              "(6685900, 10)"
            ]
          },
          "metadata": {
            "tags": []
          },
          "execution_count": 4
        }
      ]
    },
    {
      "cell_type": "code",
      "metadata": {
        "id": "KkTAih5Kymy7"
      },
      "source": [
        "import os\n",
        "\n",
        "#FUNCTION THAT CALCULATE TOTAL SIZE IN BYTES OF THE COMPRESSED FOLDER\n",
        "def get_size(start_path = '.'):\n",
        "    total_size = 0\n",
        "    for dirpath, dirnames, filenames in os.walk(start_path):\n",
        "        for f in filenames:\n",
        "            fp = os.path.join(dirpath, f)\n",
        "            # skip if it is symbolic link\n",
        "            if not os.path.islink(fp):\n",
        "                total_size += os.path.getsize(fp)\n",
        "\n",
        "    return total_size"
      ],
      "execution_count": 5,
      "outputs": []
    },
    {
      "cell_type": "code",
      "metadata": {
        "id": "pItlLo72zneb",
        "colab": {
          "base_uri": "https://localhost:8080/"
        },
        "outputId": "d275fc5b-ab6c-41aa-d9fe-cedda9f786a0"
      },
      "source": [
        "\n",
        "from pathlib import Path\n",
        "Path('yelp_academic_dataset_review.csv').stat().st_size"
      ],
      "execution_count": 6,
      "outputs": [
        {
          "output_type": "execute_result",
          "data": {
            "text/plain": [
              "4853420661"
            ]
          },
          "metadata": {
            "tags": []
          },
          "execution_count": 6
        }
      ]
    },
    {
      "cell_type": "code",
      "metadata": {
        "id": "NxT3ERQP8Bvx",
        "colab": {
          "base_uri": "https://localhost:8080/"
        },
        "outputId": "495e06fe-7a33-4d5e-d70c-755c06f572be"
      },
      "source": [
        "from pathlib import Path\n",
        "Path('yelp_academic_dataset_review.csv').stat().st_size"
      ],
      "execution_count": 8,
      "outputs": [
        {
          "output_type": "execute_result",
          "data": {
            "text/plain": [
              "4853420661"
            ]
          },
          "metadata": {
            "tags": []
          },
          "execution_count": 8
        }
      ]
    }
  ]
}